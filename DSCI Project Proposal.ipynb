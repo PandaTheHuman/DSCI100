{
 "cells": [
  {
   "cell_type": "markdown",
   "metadata": {},
   "source": [
    "# Title: Who's the WinnR ?\n",
    "\n",
    "## Introduction:\n",
    "Tennis is not a team sport - thus, tracking *individual* player statistics is critical in understanding what makes a player win or lose a match. During a match, each rally begins with a player serving the ball, and the other player attempting to return it. The players alternate serving and returning.  \n",
    "A player who is serving the ball is at a significant advantage: they get two attempts to place the ball on court. Thus, you will often see the terms \"first serve\" and \"second serve\" when looking through tennis scores. An \"ace\" is a serve that is unreturned by the other player; in this case, the serving player wins the point. A \"double fault\" occurs when both the first and second serve are placed out of bounds; this results in the non-serving player winning the point. Naturally, a player hopes to have lots of aces, and very few double faults.   \n",
    "In our dataset, we have player statistics for each match played in the year 2017. Each row of data represents a match, and contains player statistics for both the winner and the loser of the match. Using our dataset, we will attempt to train a model that predicts whether a player will win or lose that match, based on the number of aces and double faults they commit within a single match.\n"
   ]
  },
  {
   "cell_type": "markdown",
   "metadata": {},
   "source": [
    "## Preliminary data analysis:"
   ]
  },
  {
   "cell_type": "code",
   "execution_count": 18,
   "metadata": {},
   "outputs": [
    {
     "name": "stderr",
     "output_type": "stream",
     "text": [
      "Warning message:\n",
      "“Missing column names filled in: 'X1' [1]”Parsed with column specification:\n",
      "cols(\n",
      "  .default = col_double(),\n",
      "  tourney_id = \u001b[31mcol_character()\u001b[39m,\n",
      "  tourney_name = \u001b[31mcol_character()\u001b[39m,\n",
      "  surface = \u001b[31mcol_character()\u001b[39m,\n",
      "  tourney_level = \u001b[31mcol_character()\u001b[39m,\n",
      "  winner_seed = \u001b[31mcol_character()\u001b[39m,\n",
      "  winner_entry = \u001b[31mcol_character()\u001b[39m,\n",
      "  winner_name = \u001b[31mcol_character()\u001b[39m,\n",
      "  winner_hand = \u001b[31mcol_character()\u001b[39m,\n",
      "  winner_ioc = \u001b[31mcol_character()\u001b[39m,\n",
      "  loser_seed = \u001b[31mcol_character()\u001b[39m,\n",
      "  loser_entry = \u001b[31mcol_character()\u001b[39m,\n",
      "  loser_name = \u001b[31mcol_character()\u001b[39m,\n",
      "  loser_hand = \u001b[31mcol_character()\u001b[39m,\n",
      "  loser_ioc = \u001b[31mcol_character()\u001b[39m,\n",
      "  score = \u001b[31mcol_character()\u001b[39m,\n",
      "  round = \u001b[31mcol_character()\u001b[39m\n",
      ")\n",
      "See spec(...) for full column specifications.\n"
     ]
    },
    {
     "data": {
      "text/html": [
       "<table>\n",
       "<caption>A tibble: 6 × 50</caption>\n",
       "<thead>\n",
       "\t<tr><th scope=col>X1</th><th scope=col>tourney_id</th><th scope=col>tourney_name</th><th scope=col>surface</th><th scope=col>draw_size</th><th scope=col>tourney_level</th><th scope=col>tourney_date</th><th scope=col>match_num</th><th scope=col>winner_id</th><th scope=col>winner_seed</th><th scope=col>⋯</th><th scope=col>l_1stIn</th><th scope=col>l_1stWon</th><th scope=col>l_2ndWon</th><th scope=col>l_SvGms</th><th scope=col>l_bpSaved</th><th scope=col>l_bpFaced</th><th scope=col>winner_rank</th><th scope=col>winner_rank_points</th><th scope=col>loser_rank</th><th scope=col>loser_rank_points</th></tr>\n",
       "\t<tr><th scope=col>&lt;dbl&gt;</th><th scope=col>&lt;chr&gt;</th><th scope=col>&lt;chr&gt;</th><th scope=col>&lt;chr&gt;</th><th scope=col>&lt;dbl&gt;</th><th scope=col>&lt;chr&gt;</th><th scope=col>&lt;dbl&gt;</th><th scope=col>&lt;dbl&gt;</th><th scope=col>&lt;dbl&gt;</th><th scope=col>&lt;chr&gt;</th><th scope=col>⋯</th><th scope=col>&lt;dbl&gt;</th><th scope=col>&lt;dbl&gt;</th><th scope=col>&lt;dbl&gt;</th><th scope=col>&lt;dbl&gt;</th><th scope=col>&lt;dbl&gt;</th><th scope=col>&lt;dbl&gt;</th><th scope=col>&lt;dbl&gt;</th><th scope=col>&lt;dbl&gt;</th><th scope=col>&lt;dbl&gt;</th><th scope=col>&lt;dbl&gt;</th></tr>\n",
       "</thead>\n",
       "<tbody>\n",
       "\t<tr><td>0</td><td>2019-M020</td><td>Brisbane</td><td>Hard</td><td>32</td><td>A</td><td>20181231</td><td>300</td><td>105453</td><td>2 </td><td>⋯</td><td>54</td><td>34</td><td>20</td><td>14</td><td>10</td><td>15</td><td>  9</td><td>3590</td><td> 16</td><td>1977</td></tr>\n",
       "\t<tr><td>1</td><td>2019-M020</td><td>Brisbane</td><td>Hard</td><td>32</td><td>A</td><td>20181231</td><td>299</td><td>106421</td><td>4 </td><td>⋯</td><td>52</td><td>36</td><td> 7</td><td>10</td><td>10</td><td>13</td><td> 16</td><td>1977</td><td>239</td><td> 200</td></tr>\n",
       "\t<tr><td>2</td><td>2019-M020</td><td>Brisbane</td><td>Hard</td><td>32</td><td>A</td><td>20181231</td><td>298</td><td>105453</td><td>2 </td><td>⋯</td><td>27</td><td>15</td><td> 6</td><td> 8</td><td> 1</td><td> 5</td><td>  9</td><td>3590</td><td> 40</td><td>1050</td></tr>\n",
       "\t<tr><td>3</td><td>2019-M020</td><td>Brisbane</td><td>Hard</td><td>32</td><td>A</td><td>20181231</td><td>297</td><td>104542</td><td>NA</td><td>⋯</td><td>60</td><td>38</td><td> 9</td><td>11</td><td> 4</td><td> 6</td><td>239</td><td> 200</td><td> 31</td><td>1298</td></tr>\n",
       "\t<tr><td>4</td><td>2019-M020</td><td>Brisbane</td><td>Hard</td><td>32</td><td>A</td><td>20181231</td><td>296</td><td>106421</td><td>4 </td><td>⋯</td><td>56</td><td>46</td><td>19</td><td>15</td><td> 2</td><td> 4</td><td> 16</td><td>1977</td><td> 18</td><td>1855</td></tr>\n",
       "\t<tr><td>5</td><td>2019-M020</td><td>Brisbane</td><td>Hard</td><td>32</td><td>A</td><td>20181231</td><td>295</td><td>104871</td><td>NA</td><td>⋯</td><td>54</td><td>40</td><td>18</td><td>15</td><td> 6</td><td> 9</td><td> 40</td><td>1050</td><td>185</td><td> 275</td></tr>\n",
       "</tbody>\n",
       "</table>\n"
      ],
      "text/latex": [
       "A tibble: 6 × 50\n",
       "\\begin{tabular}{r|llllllllllllllllllllllllllllllllllllllllllllllllll}\n",
       " X1 & tourney\\_id & tourney\\_name & surface & draw\\_size & tourney\\_level & tourney\\_date & match\\_num & winner\\_id & winner\\_seed & winner\\_entry & winner\\_name & winner\\_hand & winner\\_ht & winner\\_ioc & winner\\_age & loser\\_id & loser\\_seed & loser\\_entry & loser\\_name & loser\\_hand & loser\\_ht & loser\\_ioc & loser\\_age & score & best\\_of & round & minutes & w\\_ace & w\\_df & w\\_svpt & w\\_1stIn & w\\_1stWon & w\\_2ndWon & w\\_SvGms & w\\_bpSaved & w\\_bpFaced & l\\_ace & l\\_df & l\\_svpt & l\\_1stIn & l\\_1stWon & l\\_2ndWon & l\\_SvGms & l\\_bpSaved & l\\_bpFaced & winner\\_rank & winner\\_rank\\_points & loser\\_rank & loser\\_rank\\_points\\\\\n",
       " <dbl> & <chr> & <chr> & <chr> & <dbl> & <chr> & <dbl> & <dbl> & <dbl> & <chr> & <chr> & <chr> & <chr> & <dbl> & <chr> & <dbl> & <dbl> & <chr> & <chr> & <chr> & <chr> & <dbl> & <chr> & <dbl> & <chr> & <dbl> & <chr> & <dbl> & <dbl> & <dbl> & <dbl> & <dbl> & <dbl> & <dbl> & <dbl> & <dbl> & <dbl> & <dbl> & <dbl> & <dbl> & <dbl> & <dbl> & <dbl> & <dbl> & <dbl> & <dbl> & <dbl> & <dbl> & <dbl> & <dbl>\\\\\n",
       "\\hline\n",
       "\t 0 & 2019-M020 & Brisbane & Hard & 32 & A & 20181231 & 300 & 105453 & 2  & NA & Kei Nishikori      & R & 178 & JPN & 29.00479 & 106421 & 4  & NA & Daniil Medvedev    & R &  NA & RUS & 22.88569 & 6-4 3-6 6-2    & 3 & F  & 124 &  3 & 3 &  77 & 44 & 31 & 17 & 13 & 3 & 6 &  8 & 6 & 100 & 54 & 34 & 20 & 14 & 10 & 15 &   9 & 3590 &  16 & 1977\\\\\n",
       "\t 1 & 2019-M020 & Brisbane & Hard & 32 & A & 20181231 & 299 & 106421 & 4  & NA & Daniil Medvedev    & R &  NA & RUS & 22.88569 & 104542 & NA & PR & Jo Wilfried Tsonga & R & 188 & FRA & 33.70568 & 7-6(6) 6-2     & 3 & SF &  82 & 10 & 1 &  52 & 33 & 28 & 14 & 10 & 0 & 1 & 17 & 2 &  77 & 52 & 36 &  7 & 10 & 10 & 13 &  16 & 1977 & 239 &  200\\\\\n",
       "\t 2 & 2019-M020 & Brisbane & Hard & 32 & A & 20181231 & 298 & 105453 & 2  & NA & Kei Nishikori      & R & 178 & JPN & 29.00479 & 104871 & NA & NA & Jeremy Chardy      & R & 188 & FRA & 31.88227 & 6-2 6-2        & 3 & SF &  66 &  2 & 2 &  47 & 33 & 26 &  9 &  8 & 2 & 2 & 10 & 3 &  46 & 27 & 15 &  6 &  8 &  1 &  5 &   9 & 3590 &  40 & 1050\\\\\n",
       "\t 3 & 2019-M020 & Brisbane & Hard & 32 & A & 20181231 & 297 & 104542 & NA & PR & Jo Wilfried Tsonga & R & 188 & FRA & 33.70568 & 200282 & 7  & NA & Alex De Minaur     & R &  NA & AUS & 19.86858 & 6-4 7-6(2)     & 3 & QF & 106 & 12 & 2 &  68 & 43 & 34 & 15 & 11 & 4 & 5 &  1 & 2 &  81 & 60 & 38 &  9 & 11 &  4 &  6 & 239 &  200 &  31 & 1298\\\\\n",
       "\t 4 & 2019-M020 & Brisbane & Hard & 32 & A & 20181231 & 296 & 106421 & 4  & NA & Daniil Medvedev    & R &  NA & RUS & 22.88569 & 105683 & 5  & NA & Milos Raonic       & R & 196 & CAN & 28.01095 & 6-7(2) 6-3 6-4 & 3 & QF & 129 & 12 & 3 & 105 & 68 & 48 & 25 & 16 & 8 & 8 & 29 & 5 &  94 & 56 & 46 & 19 & 15 &  2 &  4 &  16 & 1977 &  18 & 1855\\\\\n",
       "\t 5 & 2019-M020 & Brisbane & Hard & 32 & A & 20181231 & 295 & 104871 & NA & NA & Jeremy Chardy      & R & 188 & FRA & 31.88227 & 106034 & NA & Q  & Yasutaka Uchiyama  & R &  NA & JPN & 26.40383 & 6-4 3-6 7-6(4) & 3 & QF & 127 & 10 & 8 &  94 & 58 & 44 & 18 & 16 & 4 & 8 & 12 & 6 &  90 & 54 & 40 & 18 & 15 &  6 &  9 &  40 & 1050 & 185 &  275\\\\\n",
       "\\end{tabular}\n"
      ],
      "text/markdown": [
       "\n",
       "A tibble: 6 × 50\n",
       "\n",
       "| X1 &lt;dbl&gt; | tourney_id &lt;chr&gt; | tourney_name &lt;chr&gt; | surface &lt;chr&gt; | draw_size &lt;dbl&gt; | tourney_level &lt;chr&gt; | tourney_date &lt;dbl&gt; | match_num &lt;dbl&gt; | winner_id &lt;dbl&gt; | winner_seed &lt;chr&gt; | ⋯ ⋯ | l_1stIn &lt;dbl&gt; | l_1stWon &lt;dbl&gt; | l_2ndWon &lt;dbl&gt; | l_SvGms &lt;dbl&gt; | l_bpSaved &lt;dbl&gt; | l_bpFaced &lt;dbl&gt; | winner_rank &lt;dbl&gt; | winner_rank_points &lt;dbl&gt; | loser_rank &lt;dbl&gt; | loser_rank_points &lt;dbl&gt; |\n",
       "|---|---|---|---|---|---|---|---|---|---|---|---|---|---|---|---|---|---|---|---|---|\n",
       "| 0 | 2019-M020 | Brisbane | Hard | 32 | A | 20181231 | 300 | 105453 | 2  | ⋯ | 54 | 34 | 20 | 14 | 10 | 15 |   9 | 3590 |  16 | 1977 |\n",
       "| 1 | 2019-M020 | Brisbane | Hard | 32 | A | 20181231 | 299 | 106421 | 4  | ⋯ | 52 | 36 |  7 | 10 | 10 | 13 |  16 | 1977 | 239 |  200 |\n",
       "| 2 | 2019-M020 | Brisbane | Hard | 32 | A | 20181231 | 298 | 105453 | 2  | ⋯ | 27 | 15 |  6 |  8 |  1 |  5 |   9 | 3590 |  40 | 1050 |\n",
       "| 3 | 2019-M020 | Brisbane | Hard | 32 | A | 20181231 | 297 | 104542 | NA | ⋯ | 60 | 38 |  9 | 11 |  4 |  6 | 239 |  200 |  31 | 1298 |\n",
       "| 4 | 2019-M020 | Brisbane | Hard | 32 | A | 20181231 | 296 | 106421 | 4  | ⋯ | 56 | 46 | 19 | 15 |  2 |  4 |  16 | 1977 |  18 | 1855 |\n",
       "| 5 | 2019-M020 | Brisbane | Hard | 32 | A | 20181231 | 295 | 104871 | NA | ⋯ | 54 | 40 | 18 | 15 |  6 |  9 |  40 | 1050 | 185 |  275 |\n",
       "\n"
      ],
      "text/plain": [
       "  X1 tourney_id tourney_name surface draw_size tourney_level tourney_date\n",
       "1 0  2019-M020  Brisbane     Hard    32        A             20181231    \n",
       "2 1  2019-M020  Brisbane     Hard    32        A             20181231    \n",
       "3 2  2019-M020  Brisbane     Hard    32        A             20181231    \n",
       "4 3  2019-M020  Brisbane     Hard    32        A             20181231    \n",
       "5 4  2019-M020  Brisbane     Hard    32        A             20181231    \n",
       "6 5  2019-M020  Brisbane     Hard    32        A             20181231    \n",
       "  match_num winner_id winner_seed ⋯ l_1stIn l_1stWon l_2ndWon l_SvGms l_bpSaved\n",
       "1 300       105453    2           ⋯ 54      34       20       14      10       \n",
       "2 299       106421    4           ⋯ 52      36        7       10      10       \n",
       "3 298       105453    2           ⋯ 27      15        6        8       1       \n",
       "4 297       104542    NA          ⋯ 60      38        9       11       4       \n",
       "5 296       106421    4           ⋯ 56      46       19       15       2       \n",
       "6 295       104871    NA          ⋯ 54      40       18       15       6       \n",
       "  l_bpFaced winner_rank winner_rank_points loser_rank loser_rank_points\n",
       "1 15          9         3590                16        1977             \n",
       "2 13         16         1977               239         200             \n",
       "3  5          9         3590                40        1050             \n",
       "4  6        239          200                31        1298             \n",
       "5  4         16         1977                18        1855             \n",
       "6  9         40         1050               185         275             "
      ]
     },
     "metadata": {},
     "output_type": "display_data"
    },
    {
     "data": {
      "text/html": [
       "6866"
      ],
      "text/latex": [
       "6866"
      ],
      "text/markdown": [
       "6866"
      ],
      "text/plain": [
       "[1] 6866"
      ]
     },
     "metadata": {},
     "output_type": "display_data"
    }
   ],
   "source": [
    "## load libraries\n",
    "library(tidyverse)\n",
    "library(caret)\n",
    "\n",
    "## read tennis data\n",
    "game_data <- read_csv(\"atp2017-2019.csv\")\n",
    "\n",
    "## display table and row number\n",
    "head(game_data)\n",
    "nrow(game_data)\n",
    "\n",
    "## de-select unused columns\n",
    "game_data <- select(game_data, -tourney_id, -draw_size, -tourney_name, \n",
    "                        -match_num, -winner_seed, -winner_entry, -tourney_date, \n",
    "                        -loser_seed, -loser_entry, -winner_age, -winner_ioc, -loser_age, \n",
    "                    -loser_ioc, -winner_name, -loser_name, -best_of)\n",
    "\n",
    "## normalize ace/double fault counts by dividing by total service games\n",
    "game_data <- game_data %>% filter(w_SvGms > 0, l_SvGms >0) %>%\n",
    "                            mutate(w_ace_per_game = w_ace/w_SvGms, \n",
    "                                   l_ace_per_game = l_ace/l_SvGms, \n",
    "                                   w_df_per_game  = w_df/w_SvGms, \n",
    "                                   l_df_per_game = l_df/l_SvGms)\n",
    "                            \n",
    "\n",
    "## set rows from partition\n",
    "set_rows <- game_data %>%\n",
    "    select(X1) %>%\n",
    "    unlist() %>%\n",
    "    createDataPartition(p = 0.75, list = FALSE)\n",
    "\n",
    "## divide into training set and testing set\n",
    "training_set <- game_data %>% slice(set_rows)\n",
    "testing_set <- game_data %>% slice(-set_rows)\n"
   ]
  },
  {
   "cell_type": "code",
   "execution_count": 25,
   "metadata": {},
   "outputs": [
    {
     "data": {
      "text/html": [
       "<table>\n",
       "<caption>A tibble: 4 × 3</caption>\n",
       "<thead>\n",
       "\t<tr><th scope=col>surface</th><th scope=col>winner_avg_ace_per_game</th><th scope=col>loser_avg_ace_per_game</th></tr>\n",
       "\t<tr><th scope=col>&lt;chr&gt;</th><th scope=col>&lt;dbl&gt;</th><th scope=col>&lt;dbl&gt;</th></tr>\n",
       "</thead>\n",
       "<tbody>\n",
       "\t<tr><td>Clay </td><td>0.4114396</td><td>0.3054630</td></tr>\n",
       "\t<tr><td>Grass</td><td>0.7012064</td><td>0.5169208</td></tr>\n",
       "\t<tr><td>Hard </td><td>0.6492995</td><td>0.4831111</td></tr>\n",
       "\t<tr><td>None </td><td>0.4863602</td><td>0.2979755</td></tr>\n",
       "</tbody>\n",
       "</table>\n"
      ],
      "text/latex": [
       "A tibble: 4 × 3\n",
       "\\begin{tabular}{r|lll}\n",
       " surface & winner\\_avg\\_ace\\_per\\_game & loser\\_avg\\_ace\\_per\\_game\\\\\n",
       " <chr> & <dbl> & <dbl>\\\\\n",
       "\\hline\n",
       "\t Clay  & 0.4114396 & 0.3054630\\\\\n",
       "\t Grass & 0.7012064 & 0.5169208\\\\\n",
       "\t Hard  & 0.6492995 & 0.4831111\\\\\n",
       "\t None  & 0.4863602 & 0.2979755\\\\\n",
       "\\end{tabular}\n"
      ],
      "text/markdown": [
       "\n",
       "A tibble: 4 × 3\n",
       "\n",
       "| surface &lt;chr&gt; | winner_avg_ace_per_game &lt;dbl&gt; | loser_avg_ace_per_game &lt;dbl&gt; |\n",
       "|---|---|---|\n",
       "| Clay  | 0.4114396 | 0.3054630 |\n",
       "| Grass | 0.7012064 | 0.5169208 |\n",
       "| Hard  | 0.6492995 | 0.4831111 |\n",
       "| None  | 0.4863602 | 0.2979755 |\n",
       "\n"
      ],
      "text/plain": [
       "  surface winner_avg_ace_per_game loser_avg_ace_per_game\n",
       "1 Clay    0.4114396               0.3054630             \n",
       "2 Grass   0.7012064               0.5169208             \n",
       "3 Hard    0.6492995               0.4831111             \n",
       "4 None    0.4863602               0.2979755             "
      ]
     },
     "metadata": {},
     "output_type": "display_data"
    },
    {
     "data": {
      "text/html": [
       "<table>\n",
       "<caption>A tibble: 4 × 3</caption>\n",
       "<thead>\n",
       "\t<tr><th scope=col>surface</th><th scope=col>winner_avg_df_per_game</th><th scope=col>loser_avg_df_per_game</th></tr>\n",
       "\t<tr><th scope=col>&lt;chr&gt;</th><th scope=col>&lt;dbl&gt;</th><th scope=col>&lt;dbl&gt;</th></tr>\n",
       "</thead>\n",
       "<tbody>\n",
       "\t<tr><td>Clay </td><td>0.1990115</td><td>0.2588507</td></tr>\n",
       "\t<tr><td>Grass</td><td>0.2155157</td><td>0.2907244</td></tr>\n",
       "\t<tr><td>Hard </td><td>0.2187244</td><td>0.2856585</td></tr>\n",
       "\t<tr><td>None </td><td>0.2261831</td><td>0.2147592</td></tr>\n",
       "</tbody>\n",
       "</table>\n"
      ],
      "text/latex": [
       "A tibble: 4 × 3\n",
       "\\begin{tabular}{r|lll}\n",
       " surface & winner\\_avg\\_df\\_per\\_game & loser\\_avg\\_df\\_per\\_game\\\\\n",
       " <chr> & <dbl> & <dbl>\\\\\n",
       "\\hline\n",
       "\t Clay  & 0.1990115 & 0.2588507\\\\\n",
       "\t Grass & 0.2155157 & 0.2907244\\\\\n",
       "\t Hard  & 0.2187244 & 0.2856585\\\\\n",
       "\t None  & 0.2261831 & 0.2147592\\\\\n",
       "\\end{tabular}\n"
      ],
      "text/markdown": [
       "\n",
       "A tibble: 4 × 3\n",
       "\n",
       "| surface &lt;chr&gt; | winner_avg_df_per_game &lt;dbl&gt; | loser_avg_df_per_game &lt;dbl&gt; |\n",
       "|---|---|---|\n",
       "| Clay  | 0.1990115 | 0.2588507 |\n",
       "| Grass | 0.2155157 | 0.2907244 |\n",
       "| Hard  | 0.2187244 | 0.2856585 |\n",
       "| None  | 0.2261831 | 0.2147592 |\n",
       "\n"
      ],
      "text/plain": [
       "  surface winner_avg_df_per_game loser_avg_df_per_game\n",
       "1 Clay    0.1990115              0.2588507            \n",
       "2 Grass   0.2155157              0.2907244            \n",
       "3 Hard    0.2187244              0.2856585            \n",
       "4 None    0.2261831              0.2147592            "
      ]
     },
     "metadata": {},
     "output_type": "display_data"
    },
    {
     "data": {
      "text/html": [
       "<table>\n",
       "<caption>A tibble: 4 × 3</caption>\n",
       "<thead>\n",
       "\t<tr><th scope=col>surface</th><th scope=col>winner</th><th scope=col>loser</th></tr>\n",
       "\t<tr><th scope=col>&lt;chr&gt;</th><th scope=col>&lt;dbl&gt;</th><th scope=col>&lt;dbl&gt;</th></tr>\n",
       "</thead>\n",
       "<tbody>\n",
       "\t<tr><td>Clay </td><td>2.666031</td><td>0.8409669</td></tr>\n",
       "\t<tr><td>Grass</td><td>6.929054</td><td>3.6064189</td></tr>\n",
       "\t<tr><td>Hard </td><td>5.352355</td><td>2.7658989</td></tr>\n",
       "\t<tr><td>None </td><td>4.692308</td><td>1.3846154</td></tr>\n",
       "</tbody>\n",
       "</table>\n"
      ],
      "text/latex": [
       "A tibble: 4 × 3\n",
       "\\begin{tabular}{r|lll}\n",
       " surface & winner & loser\\\\\n",
       " <chr> & <dbl> & <dbl>\\\\\n",
       "\\hline\n",
       "\t Clay  & 2.666031 & 0.8409669\\\\\n",
       "\t Grass & 6.929054 & 3.6064189\\\\\n",
       "\t Hard  & 5.352355 & 2.7658989\\\\\n",
       "\t None  & 4.692308 & 1.3846154\\\\\n",
       "\\end{tabular}\n"
      ],
      "text/markdown": [
       "\n",
       "A tibble: 4 × 3\n",
       "\n",
       "| surface &lt;chr&gt; | winner &lt;dbl&gt; | loser &lt;dbl&gt; |\n",
       "|---|---|---|\n",
       "| Clay  | 2.666031 | 0.8409669 |\n",
       "| Grass | 6.929054 | 3.6064189 |\n",
       "| Hard  | 5.352355 | 2.7658989 |\n",
       "| None  | 4.692308 | 1.3846154 |\n",
       "\n"
      ],
      "text/plain": [
       "  surface winner   loser    \n",
       "1 Clay    2.666031 0.8409669\n",
       "2 Grass   6.929054 3.6064189\n",
       "3 Hard    5.352355 2.7658989\n",
       "4 None    4.692308 1.3846154"
      ]
     },
     "metadata": {},
     "output_type": "display_data"
    }
   ],
   "source": [
    "## table of ace statistics by court surface\n",
    "ace_by_surface <- training_set %>%\n",
    "            group_by(surface) %>%\n",
    "            summarize(winner_avg_ace_per_game = mean(w_ace_per_game, na.rm = TRUE), \n",
    "                      loser_avg_ace_per_game = mean(l_ace_per_game, na.rm = TRUE))\n",
    "head(ace_by_surface)\n",
    "\n",
    "## table of double fault statistics by court surface\n",
    "df_by_surface <- training_set %>%\n",
    "            group_by(surface) %>%\n",
    "            summarize(winner_avg_df_per_game = mean(w_df_per_game, na.rm = TRUE), \n",
    "                      loser_avg_df_per_game = mean(l_df_per_game, na.rm = TRUE))\n",
    "\n",
    "head(df_by_surface)\n",
    "\n",
    "## difference between ace and double fault\n",
    "differentials <- training_set %>%\n",
    "        group_by(surface) %>%\n",
    "        summarize (winner = mean(w_ace - w_df),\n",
    "                  loser = mean(l_ace - l_df))\n",
    "head(differentials)"
   ]
  },
  {
   "cell_type": "code",
   "execution_count": 23,
   "metadata": {},
   "outputs": [
    {
     "data": {
      "image/png": "[encoded data removed]",
      "text/plain": [
       "plot without title"
      ]
     },
     "metadata": {},
     "output_type": "display_data"
    }
   ],
   "source": [
    "plot <- game_data %>% ggplot(aes(x = w_ace, y = w_df)) + geom_point()\n",
    "plot"
   ]
  },
  {
   "cell_type": "code",
   "execution_count": null,
   "metadata": {},
   "outputs": [],
   "source": []
  }
 ],
 "metadata": {
  "kernelspec": {
   "display_name": "R",
   "language": "R",
   "name": "ir"
  },
  "language_info": {
   "codemirror_mode": "r",
   "file_extension": ".r",
   "mimetype": "text/x-r-source",
   "name": "R",
   "pygments_lexer": "r",
   "version": "3.6.1"
  }
 },
 "nbformat": 4,
 "nbformat_minor": 2
}
